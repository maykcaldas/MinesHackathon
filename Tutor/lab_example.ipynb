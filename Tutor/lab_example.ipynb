{
 "cells": [
  {
   "cell_type": "code",
   "execution_count": 5,
   "metadata": {},
   "outputs": [],
   "source": [
    "from agent import PreLabReport"
   ]
  },
  {
   "cell_type": "code",
   "execution_count": 6,
   "metadata": {},
   "outputs": [],
   "source": [
    "#### Prompt to 1b\n",
    "answer = '''1: a) Add 400mL of DI water to 2L volumetric flask\n",
    "b) Dilute 100mL of 99.9% acetonitrile in 500mL of DI water\n",
    "c) Gradually pour the dilute acetonitrile solution into the volumetric flask containing DI water\n",
    "d) Add sulfuric acid until pH is 2.6\n",
    "e) Allow solution to settle for a couple of hours and pour off the top phase\n",
    "f) The sediment is the mobile phase\n",
    "'''\n"
   ]
  },
  {
   "cell_type": "code",
   "execution_count": 7,
   "metadata": {},
   "outputs": [],
   "source": [
    "#run the lab guider\n",
    "tutor = PreLabReport(questionID=\"4\", answer=answer)"
   ]
  },
  {
   "cell_type": "code",
   "execution_count": 8,
   "metadata": {},
   "outputs": [
    {
     "name": "stdout",
     "output_type": "stream",
     "text": [
      "The student's answer does not align with the rubric. The student is not using the correct volumes of acetonitrile and water, and they are not using a calibrated pH probe to monitor the pH changes. They are also not sonication the mobile phase to remove any bubbles. \n",
      "\n",
      "Action: None\n",
      "\n",
      "Action Input: None\n",
      "The student needs to correct the volumes of acetonitrile and water used, use a calibrated pH probe to monitor the pH changes, and sonicate the mobile phase to remove any bubbles. They also need to understand that the sediment is not the mobile phase.\n",
      "\n",
      "Final Answer: Your procedure for preparing the mobile phase needs some corrections. First, you should be using 600 mL of HPLC grade acetonitrile, not 100 mL of 99.9% acetonitrile. Second, you should be diluting this in a 1L volumetric flask, not a 2L flask. Third, you should be using a calibrated pH probe to monitor the pH changes as you add sulfuric acid dropwise, not just adding sulfuric acid until the pH is 2.6. Finally, you should be sonicating the mobile phase for about 5 minutes to remove any bubbles, not allowing the solution to settle and pouring off the top phase. The sediment is not the mobile phase. Please revise your procedure accordingly."
     ]
    },
    {
     "data": {
      "text/plain": [
       "'Your procedure for preparing the mobile phase needs some corrections. First, you should be using 600 mL of HPLC grade acetonitrile, not 100 mL of 99.9% acetonitrile. Second, you should be diluting this in a 1L volumetric flask, not a 2L flask. Third, you should be using a calibrated pH probe to monitor the pH changes as you add sulfuric acid dropwise, not just adding sulfuric acid until the pH is 2.6. Finally, you should be sonicating the mobile phase for about 5 minutes to remove any bubbles, not allowing the solution to settle and pouring off the top phase. The sediment is not the mobile phase. Please revise your procedure accordingly.'"
      ]
     },
     "execution_count": 8,
     "metadata": {},
     "output_type": "execute_result"
    }
   ],
   "source": [
    "#run guide\n",
    "tutor.run()"
   ]
  }
 ],
 "metadata": {
  "kernelspec": {
   "display_name": "aiu",
   "language": "python",
   "name": "python3"
  },
  "language_info": {
   "codemirror_mode": {
    "name": "ipython",
    "version": 3
   },
   "file_extension": ".py",
   "mimetype": "text/x-python",
   "name": "python",
   "nbconvert_exporter": "python",
   "pygments_lexer": "ipython3",
   "version": "3.11.7"
  },
  "orig_nbformat": 4
 },
 "nbformat": 4,
 "nbformat_minor": 2
}
